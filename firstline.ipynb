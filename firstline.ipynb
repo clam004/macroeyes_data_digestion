{
 "cells": [
  {
   "cell_type": "code",
   "execution_count": 1,
   "metadata": {
    "collapsed": true
   },
   "outputs": [],
   "source": [
    "import os\n",
    "import glob\n",
    "import csv\n",
    "import copy\n",
    "import re"
   ]
  },
  {
   "cell_type": "code",
   "execution_count": 2,
   "metadata": {
    "collapsed": true
   },
   "outputs": [],
   "source": [
    "def get_immediate_subdirectories(a_dir):\n",
    "    return [name for name in os.listdir(a_dir)\n",
    "            if os.path.isdir(os.path.join(a_dir, name))]"
   ]
  },
  {
   "cell_type": "code",
   "execution_count": 13,
   "metadata": {
    "collapsed": true
   },
   "outputs": [],
   "source": []
  },
  {
   "cell_type": "code",
   "execution_count": 4,
   "metadata": {
    "collapsed": true
   },
   "outputs": [],
   "source": [
    "import sys\n",
    "import csv\n",
    "maxInt = sys.maxsize\n",
    "decrement = True\n",
    "\n",
    "while decrement:\n",
    "    # decrease the maxInt value by factor 10 \n",
    "    # as long as the OverflowError occurs.\n",
    "\n",
    "    decrement = False\n",
    "    try:\n",
    "        csv.field_size_limit(maxInt)\n",
    "    except OverflowError:\n",
    "        maxInt = int(maxInt/10)\n",
    "        decrement = True"
   ]
  },
  {
   "cell_type": "code",
   "execution_count": 16,
   "metadata": {
    "collapsed": false
   },
   "outputs": [
    {
     "name": "stdout",
     "output_type": "stream",
     "text": [
      "1000  -  0.05346164127238706\n",
      "2000  -  0.10692328254477412\n",
      "3000  -  0.16038492381716118\n",
      "4000  -  0.21384656508954825\n",
      "5000  -  0.2673082063619353\n",
      "6000  -  0.32076984763432237\n",
      "7000  -  0.37423148890670943\n",
      "8000  -  0.4276931301790965\n",
      "9000  -  0.48115477145148355\n",
      "10000  -  0.5346164127238706\n",
      "11000  -  0.5880780539962577\n",
      "12000  -  0.6415396952686447\n",
      "13000  -  0.6950013365410318\n",
      "14000  -  0.7484629778134189\n",
      "15000  -  0.8019246190858059\n",
      "16000  -  0.855386260358193\n",
      "17000  -  0.90884790163058\n",
      "18000  -  0.9623095429029671\n"
     ]
    }
   ],
   "source": [
    "\n",
    "dirs = get_immediate_subdirectories('/Users/carsonlam/macroeyes/population1/' )\n",
    "length = len(dirs)\n",
    "\n",
    "csvname = 'icd9'\n",
    "folderpath = '/Users/carsonlam/macroeyes/population1/'\n",
    "\n",
    "j =0\n",
    "for direc in dirs:\n",
    "    \n",
    "    filepath = folderpath+str(direc)+'/'+ csvname +'.txt'\n",
    "        \n",
    "    j+=1\n",
    "    \n",
    "    if j > 1000:\n",
    "        \n",
    "        if os.path.exists(filepath):\n",
    "            f = open(filepath, \"r\",encoding = 'iso-8859-1') \n",
    "            readfile = csv.reader(f)\n",
    "            filelist = list(readfile)\n",
    "            f.close()\n",
    "\n",
    "            #print(filelist[0][-1])\n",
    "            #print(filelist[1][0])\n",
    "            end = filelist[0][-1]\n",
    "            start = filelist[1][0]\n",
    "\n",
    "            end2 = end[:-1]\n",
    "            start2 = 'Z' + start\n",
    "\n",
    "            #print(end,start)\n",
    "            #print(end2,start2)\n",
    "\n",
    "            line1 = filelist[0]\n",
    "            line2 = filelist[1]\n",
    "            filelist[0][-1] = end2\n",
    "            filelist[1][0] = start2\n",
    "\n",
    "            with open(filepath, \"w\") as myfile:\n",
    "                for item in filelist:\n",
    "                    #print(item)\n",
    "                    #item[0] =str(item[0])\n",
    "                    s=','\n",
    "                    item = s.join(item)\n",
    "                    #print(item)\n",
    "                    myfile.write(\"%s\\n\" % item)\n",
    "\n",
    "\n",
    "\n",
    "            #print(filepath)\n",
    "            #break \n",
    "    \n",
    "    if j%1000 == 0:\n",
    "        print(j,' - ',j/(length))"
   ]
  },
  {
   "cell_type": "code",
   "execution_count": 19,
   "metadata": {
    "collapsed": false
   },
   "outputs": [
    {
     "name": "stdout",
     "output_type": "stream",
     "text": [
      "1000  -  0.05346164127238706\n",
      "2000  -  0.10692328254477412\n",
      "3000  -  0.16038492381716118\n",
      "4000  -  0.21384656508954825\n",
      "5000  -  0.2673082063619353\n",
      "6000  -  0.32076984763432237\n",
      "7000  -  0.37423148890670943\n",
      "8000  -  0.4276931301790965\n",
      "9000  -  0.48115477145148355\n",
      "10000  -  0.5346164127238706\n",
      "11000  -  0.5880780539962577\n",
      "12000  -  0.6415396952686447\n",
      "13000  -  0.6950013365410318\n",
      "14000  -  0.7484629778134189\n",
      "15000  -  0.8019246190858059\n",
      "16000  -  0.855386260358193\n",
      "17000  -  0.90884790163058\n",
      "18000  -  0.9623095429029671\n"
     ]
    }
   ],
   "source": [
    "dirs = get_immediate_subdirectories('/Users/carsonlam/macroeyes/population1/' )\n",
    "length = len(dirs)\n",
    "\n",
    "csvname = 'icd9'\n",
    "folderpath = '/Users/carsonlam/macroeyes/population1/'\n",
    "\n",
    "j =0\n",
    "for direc in dirs:\n",
    "    \n",
    "    filepath = folderpath+str(direc)+'/'+ csvname +'.txt'\n",
    "        \n",
    "    if os.path.exists(filepath):\n",
    "        f = open(filepath, \"r\",encoding = 'iso-8859-1') \n",
    "        readfile = csv.reader(f)\n",
    "        filelist = list(readfile)\n",
    "        f.close()\n",
    "        \n",
    "        filelist[0] = filelist[0][1:]\n",
    "\n",
    "        with open(filepath, \"w\") as myfile:\n",
    "            for item in filelist:\n",
    "                s=','\n",
    "                item = s.join(item)\n",
    "                myfile.write(\"%s\\n\" % item)\n",
    "\n",
    "    j+=1\n",
    "    \n",
    "    if j%1000 == 0:\n",
    "        print(j,' - ',j/(length))"
   ]
  },
  {
   "cell_type": "code",
   "execution_count": null,
   "metadata": {
    "collapsed": true
   },
   "outputs": [],
   "source": []
  }
 ],
 "metadata": {
  "kernelspec": {
   "display_name": "Python 3",
   "language": "python",
   "name": "python3"
  },
  "language_info": {
   "codemirror_mode": {
    "name": "ipython",
    "version": 3
   },
   "file_extension": ".py",
   "mimetype": "text/x-python",
   "name": "python",
   "nbconvert_exporter": "python",
   "pygments_lexer": "ipython3",
   "version": "3.5.1"
  }
 },
 "nbformat": 4,
 "nbformat_minor": 0
}
