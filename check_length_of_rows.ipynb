{
 "cells": [
  {
   "cell_type": "code",
   "execution_count": 1,
   "metadata": {
    "collapsed": true
   },
   "outputs": [],
   "source": [
    "import os\n",
    "import glob\n",
    "import csv\n",
    "import copy\n",
    "from functions import *"
   ]
  },
  {
   "cell_type": "code",
   "execution_count": 2,
   "metadata": {
    "collapsed": false
   },
   "outputs": [
    {
     "data": {
      "text/plain": [
       "18704"
      ]
     },
     "execution_count": 2,
     "metadata": {},
     "output_type": "execute_result"
    }
   ],
   "source": [
    "folderpath = '/Users/carsonlam/macroeyes/population1/'\n",
    "dirs = get_immediate_subdirectories(folderpath)\n",
    "len(dirs)"
   ]
  },
  {
   "cell_type": "code",
   "execution_count": 53,
   "metadata": {
    "collapsed": false
   },
   "outputs": [
    {
     "name": "stdout",
     "output_type": "stream",
     "text": [
      "HEADER LENGTH 5\n",
      "{5} number 524 abnormals: 0\n",
      "HEADER LENGTH 5\n",
      "{5} number 319 abnormals: 0\n",
      "HEADER LENGTH 5\n",
      "{5} number 59 abnormals: 0\n",
      "HEADER LENGTH 5\n",
      "{5} number 405 abnormals: 0\n",
      "HEADER LENGTH 5\n",
      "{5} number 60 abnormals: 0\n",
      "HEADER LENGTH 5\n",
      "{5} number 152 abnormals: 0\n",
      "HEADER LENGTH 5\n",
      "{5} number 276 abnormals: 0\n",
      "HEADER LENGTH 5\n",
      "{5} number 49 abnormals: 0\n",
      "HEADER LENGTH 5\n",
      "{5} number 219 abnormals: 0\n",
      "HEADER LENGTH 5\n",
      "{5} number 12 abnormals: 0\n",
      "HEADER LENGTH 5\n",
      "{5} number 70 abnormals: 0\n"
     ]
    }
   ],
   "source": [
    "#txtname = 'proc_icd' # variation\n",
    "#txtname = 'Cur_Proc_Term' #variation\n",
    "#txtname = 'note1' #variation\n",
    "#txtname = 'medications'#variation\n",
    "txtname = 'icd9'\n",
    "\n",
    "i = 0\n",
    "\n",
    "for MRN in dirs:\n",
    "    \n",
    "    MRN = MRN.rstrip()\n",
    "    \n",
    "    textpath = folderpath + MRN + '/' + txtname + '.txt'\n",
    "    \n",
    "    if os.path.exists(textpath):\n",
    "\n",
    "        f = open(textpath, \"r\",encoding = 'iso-8859-1') \n",
    "\n",
    "        readfile = csv.reader(f)\n",
    "\n",
    "        allrows = list(readfile)\n",
    "\n",
    "        f.close()\n",
    "        \n",
    "        header = allrows[0]\n",
    "        print('HEADER LENGTH', len(header))\n",
    "        \n",
    "        datarows = allrows[1:]\n",
    "        \n",
    "        length = []\n",
    "        abnormal = 0\n",
    "        for row in datarows:\n",
    "            length.append(len(row))\n",
    "            if len(row)>len(header):\n",
    "                abnormal +=1\n",
    "                #print(row)\n",
    "                    \n",
    "        print(set(length),'number', len(length), 'abnormals:', abnormal )\n",
    "        \n",
    "        i+=1 \n",
    "    \n",
    "    else:\n",
    "        print('not found:', textpath)\n",
    "    \n",
    "    if i > 10:\n",
    "            break \n",
    "        \n",
    "    if i%100 == 0:\n",
    "            print(i/len(dirs))    "
   ]
  },
  {
   "cell_type": "code",
   "execution_count": 29,
   "metadata": {
    "collapsed": false
   },
   "outputs": [
    {
     "ename": "IndexError",
     "evalue": "list index out of range",
     "output_type": "error",
     "traceback": [
      "\u001b[0;31m---------------------------------------------------------------------------\u001b[0m",
      "\u001b[0;31mIndexError\u001b[0m                                Traceback (most recent call last)",
      "\u001b[0;32m<ipython-input-29-3818e4588631>\u001b[0m in \u001b[0;36m<module>\u001b[0;34m()\u001b[0m\n\u001b[1;32m     31\u001b[0m         \u001b[0mfile\u001b[0m\u001b[0;34m.\u001b[0m\u001b[0mclose\u001b[0m\u001b[0;34m(\u001b[0m\u001b[0;34m)\u001b[0m\u001b[0;34m\u001b[0m\u001b[0m\n\u001b[1;32m     32\u001b[0m \u001b[0;34m\u001b[0m\u001b[0m\n\u001b[0;32m---> 33\u001b[0;31m         \u001b[0mprint\u001b[0m\u001b[0;34m(\u001b[0m\u001b[0mdatarows\u001b[0m\u001b[0;34m[\u001b[0m\u001b[0;36m0\u001b[0m\u001b[0;34m]\u001b[0m\u001b[0;34m[\u001b[0m\u001b[0;36m2\u001b[0m\u001b[0;34m]\u001b[0m\u001b[0;34m)\u001b[0m\u001b[0;34m\u001b[0m\u001b[0m\n\u001b[0m\u001b[1;32m     34\u001b[0m \u001b[0;34m\u001b[0m\u001b[0m\n\u001b[1;32m     35\u001b[0m         \u001b[0mi\u001b[0m\u001b[0;34m+=\u001b[0m\u001b[0;36m1\u001b[0m\u001b[0;34m\u001b[0m\u001b[0m\n",
      "\u001b[0;31mIndexError\u001b[0m: list index out of range"
     ]
    }
   ],
   "source": [
    "txtname = 'medications'\n",
    "\n",
    "i = 0\n",
    "\n",
    "for MRN in dirs:\n",
    "    \n",
    "    MRN = MRN.rstrip()\n",
    "    \n",
    "    textpath = folderpath + MRN + '/' + txtname + '.txt'\n",
    "    createpath = folderpath + MRN + '/' + 'Meds.txt'\n",
    "    \n",
    "    if os.path.exists(textpath):\n",
    "\n",
    "        f = open(textpath, \"r\",encoding = 'iso-8859-1') \n",
    "\n",
    "        readfile = csv.reader(f)\n",
    "\n",
    "        allrows = list(readfile)\n",
    "\n",
    "        f.close()\n",
    "        \n",
    "        header = allrows[0][0]\n",
    "        header = header.split('][')\n",
    "        \n",
    "        datarows = allrows[1:]\n",
    "        \n",
    "        s=','\n",
    "        file = open(createpath, \"w\")\n",
    "        header = s.join(header)\n",
    "        file.write(header + \"\\n\")\n",
    "        file.close() \n",
    "        \n",
    "        i+=1 \n",
    "        \n",
    "        if i > 1:\n",
    "            break \n",
    "        \n",
    "        if i%100 == 0:\n",
    "            print(i/len(dirs))    "
   ]
  },
  {
   "cell_type": "code",
   "execution_count": 13,
   "metadata": {
    "collapsed": false
   },
   "outputs": [],
   "source": [
    "        s=','\n",
    "        file = open(createpath, \"w\")\n",
    "        header = s.join(header)\n",
    "        file.write(header + \"\\n\")\n",
    "        file.close() \n",
    "        \n",
    "        for row in datarows:\n",
    "            row[3],row[4] = '\"'+ row[3] + '\"','\"'+row[4]+ '\"'\n",
    "            with open(createpath, \"a\") as myfile:\n",
    "                for item in row:\n",
    "                    item = s.join(item)\n",
    "                    myfile.write(\"%s\\n\" % item)"
   ]
  },
  {
   "cell_type": "code",
   "execution_count": 32,
   "metadata": {
    "collapsed": false
   },
   "outputs": [
    {
     "data": {
      "text/plain": [
       "['00006825 ][ 423715932 ][ 92371 ][ metoprolol (TOPROL XL) sustained release tablet ][ metoprolol succinate ER 25 mg tablet',\n",
       " 'extended release 24 hr ][ 05-AUG-13 ][ Outpatient ][ Authorizing ][ TABLET SR 24 HR ][ 25 mg ][ Oral ][ 1032 ][ CARDIOVASCULAR ][ BETA-ADRENERGIC BLOCKING AGENTS ][ DAILY ][ 30 Tab ][ 6 ][ 12.5 ][ mg']"
      ]
     },
     "execution_count": 32,
     "metadata": {},
     "output_type": "execute_result"
    }
   ],
   "source": [
    "datarows[0]"
   ]
  },
  {
   "cell_type": "code",
   "execution_count": 33,
   "metadata": {
    "collapsed": false
   },
   "outputs": [],
   "source": []
  },
  {
   "cell_type": "code",
   "execution_count": null,
   "metadata": {
    "collapsed": true
   },
   "outputs": [],
   "source": []
  }
 ],
 "metadata": {
  "kernelspec": {
   "display_name": "Python 3",
   "language": "python",
   "name": "python3"
  },
  "language_info": {
   "codemirror_mode": {
    "name": "ipython",
    "version": 3
   },
   "file_extension": ".py",
   "mimetype": "text/x-python",
   "name": "python",
   "nbconvert_exporter": "python",
   "pygments_lexer": "ipython3",
   "version": "3.5.1"
  }
 },
 "nbformat": 4,
 "nbformat_minor": 0
}
