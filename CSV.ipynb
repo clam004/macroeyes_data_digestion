{
 "cells": [
  {
   "cell_type": "code",
   "execution_count": 5,
   "metadata": {
    "collapsed": false
   },
   "outputs": [
    {
     "name": "stdout",
     "output_type": "stream",
     "text": [
      "['PAT_MRN_ID', 'PAT_ID', 'CODE', 'PREFERRED_TEXT', 'CODE_TYPE', 'CODE_DATE'] <type 'list'>\n",
      "[<type 'str'>, <type 'str'>, <type 'str'>, <type 'str'>, <type 'str'>, <type 'str'>]\n",
      "['09071200', 'Z990900', '719.46', 'Pain in joint involving lower leg', 'ICD9CM', '08-MAY-15'] <type 'list'>\n",
      "[<type 'str'>, <type 'str'>, <type 'str'>, <type 'str'>, <type 'str'>, <type 'str'>]\n",
      "['09071200', 'Z990900', '365.02', 'Anatomical narrow angle borderline glaucoma', 'ICD9CM', '08-MAY-15'] <type 'list'>\n",
      "[<type 'str'>, <type 'str'>, <type 'str'>, <type 'str'>, <type 'str'>, <type 'str'>]\n",
      "['15144579', 'Z1171520', '414.00', 'Coronary atherosclerosis of unspecified type of vessel native or graft', 'ICD9CM', '04-MAY-15'] <type 'list'>\n",
      "[<type 'str'>, <type 'str'>, <type 'str'>, <type 'str'>, <type 'str'>, <type 'str'>]\n",
      "['15144579', 'Z1171520', '585.2', 'Chronic kidney disease stage ii (mild)', 'ICD9CM', '04-MAY-15'] <type 'list'>\n",
      "[<type 'str'>, <type 'str'>, <type 'str'>, <type 'str'>, <type 'str'>, <type 'str'>]\n",
      "['10296499', 'Z2099407', '228.01', 'Hemangioma of skin and subcutaneous tissue', 'ICD9CM', '04-MAY-15'] <type 'list'>\n",
      "[<type 'str'>, <type 'str'>, <type 'str'>, <type 'str'>, <type 'str'>, <type 'str'>]\n"
     ]
    }
   ],
   "source": [
    "import csv\n",
    "\n",
    "i=0\n",
    "\n",
    "with open('icd9.csv', 'rb') as f:\n",
    "    \n",
    "    reader = csv.reader(f)\n",
    "    \n",
    "    for row in reader:\n",
    "        \n",
    "        print row, type(row)\n",
    "        \n",
    "        print([type(cell) for cell in row])\n",
    "        \n",
    "        i+=1\n",
    "        \n",
    "        if i>5:\n",
    "            break "
   ]
  },
  {
   "cell_type": "code",
   "execution_count": null,
   "metadata": {
    "collapsed": true
   },
   "outputs": [],
   "source": []
  }
 ],
 "metadata": {
  "kernelspec": {
   "display_name": "Python 2",
   "language": "python",
   "name": "python2"
  },
  "language_info": {
   "codemirror_mode": {
    "name": "ipython",
    "version": 2
   },
   "file_extension": ".py",
   "mimetype": "text/x-python",
   "name": "python",
   "nbconvert_exporter": "python",
   "pygments_lexer": "ipython2",
   "version": "2.7.11"
  }
 },
 "nbformat": 4,
 "nbformat_minor": 0
}
