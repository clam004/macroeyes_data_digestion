{
 "cells": [
  {
   "cell_type": "code",
   "execution_count": 19,
   "metadata": {
    "collapsed": true
   },
   "outputs": [],
   "source": [
    "import os\n",
    "import glob\n",
    "import csv\n",
    "import copy\n",
    "from functions import *\n",
    "import fractions\n",
    "import re"
   ]
  },
  {
   "cell_type": "code",
   "execution_count": 2,
   "metadata": {
    "collapsed": false
   },
   "outputs": [
    {
     "data": {
      "text/plain": [
       "18704"
      ]
     },
     "execution_count": 2,
     "metadata": {},
     "output_type": "execute_result"
    }
   ],
   "source": [
    "folderpath = '/Users/carsonlam/macroeyes/population1/'\n",
    "dirs = get_immediate_subdirectories(folderpath)\n",
    "len(dirs)"
   ]
  },
  {
   "cell_type": "code",
   "execution_count": 37,
   "metadata": {
    "collapsed": false
   },
   "outputs": [
    {
     "name": "stdout",
     "output_type": "stream",
     "text": [
      "has letter soft\n",
      "has letter STP\n",
      "set()\n"
     ]
    }
   ],
   "source": [
    "txtname = 'IOP'\n",
    "\n",
    "i = 0\n",
    "\n",
    "for MRN in dirs:\n",
    "    \n",
    "    MRN = MRN.rstrip()\n",
    "    \n",
    "    textpath = folderpath + MRN + '/' + txtname + '.txt'\n",
    "    \n",
    "    if os.path.exists(textpath):\n",
    "\n",
    "        f = open(textpath, \"r\",encoding = 'iso-8859-1') \n",
    "\n",
    "        readfile = csv.reader(f)\n",
    "\n",
    "        allrows = list(readfile)\n",
    "\n",
    "        f.close()\n",
    "        \n",
    "        header = allrows[0]\n",
    "        s=','\n",
    "        stringheader = s.join(header)\n",
    "        #file = open(textpath, \"w\")\n",
    "        #file.write(stringheader + \"\\n\")\n",
    "        #file.close() \n",
    "        #print(header, 'HEADER LENGTH', len(header))\n",
    "        \n",
    "        datarows = allrows[1:]\n",
    "        \n",
    "        for row in datarows:\n",
    "            #print('orig',row[3])\n",
    "            #rowfloat = fractions.Fraction(row[3])\n",
    "            #print('fraction',rowfloat)\n",
    "            if ('20/' in row[3]) and ('-' in row[3] or '+' in row[3]):\n",
    "                #row[3] = row[3].split('-', 1)[0]\n",
    "                #print('value and minus',row[3])\n",
    "            #elif not ('20/' in row[3]) and ('-' in row[3] or '+' in row[3]):\n",
    "                #row[3] = 'NaN'\n",
    "                #print('minus only',row[3])\n",
    "            if bool(re.search('[a-zA-Z]', row[3])): #bool(re.search(r'\\d', inputString)):\n",
    "                #row[3] = 'NaN'\n",
    "                print('has letter:',row[3])\n",
    "                \n",
    "            #s=','\n",
    "            #newrow = s.join(row)    \n",
    "            #with open(textpath, \"a\") as myfile:\n",
    "                #myfile.write(newrow + \"\\n\")\n",
    "                \n",
    "    i+=1 \n",
    "    \n",
    "    if i > 2000:\n",
    "        break \n",
    "    \n",
    "    if i%1000 == 0:\n",
    "            print(i/len(dirs))  \n"
   ]
  },
  {
   "cell_type": "code",
   "execution_count": null,
   "metadata": {
    "collapsed": true
   },
   "outputs": [],
   "source": [
    "def RepresentsInt(s):\n",
    "    try: \n",
    "        int(s)\n",
    "        return True\n",
    "    except ValueError:\n",
    "        return False"
   ]
  },
  {
   "cell_type": "code",
   "execution_count": 36,
   "metadata": {
    "collapsed": false
   },
   "outputs": [
    {
     "name": "stdout",
     "output_type": "stream",
     "text": [
      "{'', '`19', '21', ' 22', '  11', '01', 'deny', 'err', '20-1', '16+', '39', 'a20', 'NI', 'DEF', '12.', 'SOft', '20.', 'Soft', '163', '19+', '1000', '016', '*', 'unbl', '230', 'v16', '112', '47', '36', '16`', '40', '13', 'decl', '174', 'SOF', 'opac', '88', '49', '596', 'OSH', '600', '513', '4-5', '560', '524', '18/', 'rr14', '17.5', '66', 'Patient refused Proparacaine', 'BCTL', 'Unba', ' 17', '214', '008', '25', 'UNab', 't16', '6', 'na', 'soft', '41', '<5', 'x', 'ju16', 'pros', '499', '26+', '196', '14', '38', '59', '`', '03', 'un', 'pend', 'stp', 'refe', '26.5', '113', '+14', '68', '14.5', '23', '636', '18', 'pt d', '624', ' 16', 'CTL', 'UNAB', 'erro', '~20', '22.', '19?', '37', '56', '185', '141', '87', '3', 'refu', '554', '54', '20?', 'Unab', '35', 'defe', 'STP', 'n/a', '`16', '+17', 'clos', '19*', ' 4', '44', 'Def', 'palp', '34', '123', 'low', '111', 'over', '143', 'nl', ' 10', 'Per patient', 'sens', 'S', '48', '0', '12', '125', '`17', ' 14', '520', '?0', '15', 'Pros', '27', '`15', '64', '182', '568', 'X', '30', '8', '101', '02', '-15', '46', '24', '--', '13`', 'no e', '136', 'Tars', '12+.', '26', 'enuc', '5', '92', 'def', '62', '28', '  17', '06', '18-.', 'high', '670', '05', '22', '  12', '65', '>5', '642', '17+', '4', '11', '11+', 'unab', '6-7', '07', '33', '55', '15.', 'SOFT', '82', '15?', '`18', 'HM', 'no r', '0-1', '45', '17', '121', '12+', 'xx', '43', '`13', ' v16', '04', '7', '18+', 'Patient requested left eye only', ' 24', 'N/A', '930', '08', '50', '60', '10', '40?', '\\\\16', '16', '19', '57', '53', 'NA', '-', '147', '1', ' 20', '19.5', '  16', '---', '70', '31', '20', '9', '2', '181', ' 15', '549', 'firm', '13.', '32', '21.5', 'norm', '09', '58', '771', '.19', '118', '29', '183', 'sof', '75', 'wnl', 'not', '00', 'unde', '52', 'WNL', '007', '640', '42', '51'}\n"
     ]
    }
   ],
   "source": [
    "# the integer version must be 1 or 2 digits, remove non alphnumerics \n",
    "print(set(typeset))"
   ]
  },
  {
   "cell_type": "code",
   "execution_count": null,
   "metadata": {
    "collapsed": true
   },
   "outputs": [],
   "source": []
  }
 ],
 "metadata": {
  "kernelspec": {
   "display_name": "Python 3",
   "language": "python",
   "name": "python3"
  },
  "language_info": {
   "codemirror_mode": {
    "name": "ipython",
    "version": 3
   },
   "file_extension": ".py",
   "mimetype": "text/x-python",
   "name": "python",
   "nbconvert_exporter": "python",
   "pygments_lexer": "ipython3",
   "version": "3.5.1"
  }
 },
 "nbformat": 4,
 "nbformat_minor": 0
}
